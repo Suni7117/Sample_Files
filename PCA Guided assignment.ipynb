{
 "cells": [
  {
   "cell_type": "code",
   "execution_count": 3,
   "metadata": {},
   "outputs": [],
   "source": [
    "import pandas as pd\n",
    "import numpy as np\n",
    "from sklearn.preprocessing import StandardScaler\n",
    "from matplotlib import*\n",
    "import matplotlib.pyplot as plt\n",
    "from matplotlib.cm import register_cmap\n",
    "from scipy import stats\n",
    "from sklearn.decomposition import PCA \n",
    "import seaborn as sns"
   ]
  },
  {
   "cell_type": "markdown",
   "metadata": {},
   "source": [
    "# Load and Standardize Data"
   ]
  },
  {
   "cell_type": "code",
   "execution_count": 9,
   "metadata": {},
   "outputs": [],
   "source": [
    "data = pd.read_csv('PCA_practice_dataset.csv')\n",
    "X = data.iloc[:, :-1].values"
   ]
  },
  {
   "cell_type": "code",
   "execution_count": 13,
   "metadata": {},
   "outputs": [],
   "source": [
    "def standardize_data(arr):\n",
    "    rows, columns = arr.shape\n",
    "    standardizedArray = np.zeros(shape=(rows, columns))\n",
    "    tempArray = np.zeros(rows)\n",
    "    for column in range(columns):\n",
    "        mean = np.mean(X[:,column])\n",
    "        std = np.std(X[:,column])\n",
    "        tempArray = np.empty(0)\n",
    "    \n",
    "    for element in X[:,column]:\n",
    "        \n",
    "        tempArray = np.append(tempArray, ((element - mean) / std))\n",
    "    standardizedArray[:,column] = tempArray\n",
    "    return standardizedArray"
   ]
  },
  {
   "cell_type": "code",
   "execution_count": 14,
   "metadata": {},
   "outputs": [],
   "source": [
    "from sklearn.preprocessing import StandardScaler\n",
    "sc = StandardScaler()\n",
    "X = sc.fit_transform(X)"
   ]
  },
  {
   "cell_type": "markdown",
   "metadata": {},
   "source": [
    "# Covariance Matrix and Eigen decomposition"
   ]
  },
  {
   "cell_type": "code",
   "execution_count": 15,
   "metadata": {},
   "outputs": [],
   "source": [
    "features = X.T\n",
    "cov_matrix = np.cov(features)"
   ]
  },
  {
   "cell_type": "code",
   "execution_count": 17,
   "metadata": {},
   "outputs": [
    {
     "name": "stdout",
     "output_type": "stream",
     "text": [
      "Eigenvector: \n",
      " [[-0.20713531 -0.09061443 -0.23094464 ... -0.08166291  0.18018287\n",
      "  -0.0648254 ]\n",
      " [-0.2039369  -0.10935753  0.21993356 ...  0.13264327 -0.26598478\n",
      "  -0.07421891]\n",
      " [ 0.06381716 -0.25194137  0.04435315 ... -0.03848135  0.17187279\n",
      "  -0.05397131]\n",
      " ...\n",
      " [ 0.15768566 -0.18987939 -0.04996353 ...  0.09332458  0.34932371\n",
      "   0.05100056]\n",
      " [-0.20611455 -0.09179469 -0.246731   ... -0.09066797  0.02465579\n",
      "  -0.24104041]\n",
      " [-0.20295623 -0.10922431  0.20650669 ...  0.06086623  0.0298005\n",
      "   0.14472091]] \n",
      "\n",
      "Eigenvalues: \n",
      " [1.71691440e+01 1.27185898e+01 1.17755546e+00 7.35409584e-01\n",
      " 5.87526618e-01 3.92436510e-01 3.60085817e-01 1.21640421e-01\n",
      " 1.13549579e-01 7.99259656e-02 7.31844109e-02 5.38728351e-02\n",
      " 4.97627076e-02 3.99197842e-02 3.47325621e-02 3.59812257e-02\n",
      " 2.65419761e-02 2.35937979e-02 2.33925968e-02 5.73741232e-03\n",
      " 2.09263680e-02 1.99260765e-02 7.09343835e-03 7.98736634e-03\n",
      " 8.97932666e-03 9.27284032e-03 1.06815753e-02 1.13838899e-02\n",
      " 1.60165487e-02 1.52386618e-02 1.48165307e-02 1.39232881e-02\n",
      " 1.24599253e-02 1.29399516e-02] \n",
      "\n"
     ]
    }
   ],
   "source": [
    "eigen_values, eigen_vectors = np.linalg.eig(cov_matrix)\n",
    "print(\"Eigenvector: \\n\",eigen_vectors,\"\\n\")\n",
    "print(\"Eigenvalues: \\n\", eigen_values, \"\\n\")"
   ]
  },
  {
   "cell_type": "code",
   "execution_count": 18,
   "metadata": {},
   "outputs": [
    {
     "name": "stdout",
     "output_type": "stream",
     "text": [
      "Eigenvalues in descending order:\n",
      "17.169144010332204\n",
      "12.718589795380487\n",
      "1.1775554605059546\n",
      "0.7354095836354944\n",
      "0.5875266178528442\n",
      "0.392436509815379\n",
      "0.3600858168540083\n",
      "0.12164042085405485\n",
      "0.1135495785202917\n",
      "0.079925965577728\n",
      "0.07318441088608148\n",
      "0.053872835142702614\n",
      "0.04976270762478869\n",
      "0.03991978421552747\n",
      "0.03473256206918919\n",
      "0.03598122571816435\n",
      "0.02654197608232697\n",
      "0.023593797947327116\n",
      "0.02339259677223338\n",
      "0.005737412318959515\n",
      "0.020926367991898915\n",
      "0.019926076490595874\n",
      "0.007093438345993575\n",
      "0.007987366335269563\n",
      "0.008979326658424297\n",
      "0.009272840316974304\n",
      "0.01068157527362318\n",
      "0.011383889939443254\n",
      "0.016016548732695913\n",
      "0.01523866181852855\n",
      "0.014816530723164533\n",
      "0.013923288051121724\n",
      "0.012459925348436433\n",
      "0.012939951589475513\n"
     ]
    }
   ],
   "source": [
    "eig_pairs = [(np.abs(eigen_values[i]), eigen_vectors[:,i]) for i in range(len(eigen_values))]\n",
    "print('Eigenvalues in descending order:')\n",
    "for i in eig_pairs:\n",
    "    print(i[0])"
   ]
  },
  {
   "cell_type": "markdown",
   "metadata": {},
   "source": [
    "# Singular Value Decomposition (SVD)"
   ]
  },
  {
   "cell_type": "code",
   "execution_count": 19,
   "metadata": {},
   "outputs": [
    {
     "name": "stdout",
     "output_type": "stream",
     "text": [
      "[[-0.20713531  0.09061443  0.23094464 ...  0.12971407 -0.17096484\n",
      "  -0.03925088]\n",
      " [-0.2039369   0.10935753 -0.21993356 ... -0.21832987  0.37254419\n",
      "   0.16529199]\n",
      " [ 0.06381716  0.25194137 -0.04435315 ...  0.04901028 -0.08115143\n",
      "  -0.01216503]\n",
      " ...\n",
      " [ 0.15768566  0.18987939  0.04996353 ...  0.02183773  0.10515805\n",
      "  -0.04631569]\n",
      " [-0.20611455  0.09179469  0.246731   ...  0.12464757  0.10438586\n",
      "  -0.03645938]\n",
      " [-0.20295623  0.10922431 -0.20650669 ... -0.20537222 -0.26304665\n",
      "   0.18791061]]\n"
     ]
    }
   ],
   "source": [
    "eigen_vec_svd, s, v = np.linalg.svd(X.T)\n",
    "print(eigen_vec_svd)"
   ]
  },
  {
   "cell_type": "markdown",
   "metadata": {},
   "source": [
    "# Find the right singular vectors"
   ]
  },
  {
   "cell_type": "code",
   "execution_count": 20,
   "metadata": {},
   "outputs": [
    {
     "name": "stdout",
     "output_type": "stream",
     "text": [
      "[array([-0.09554255, -0.10568133, -0.08771916, ..., -0.10378475,\n",
      "       -0.11741972, -0.12798319]), array([-0.3081025 , -0.22854565, -0.19264344, ...,  0.33604936,\n",
      "        0.2651531 ,  0.34779829]), array([ 1.03482354,  1.53418919,  1.44208968, ..., -0.0245133 ,\n",
      "        0.05955414,  0.03277699]), array([-0.53082216, -1.19867889,  0.96207855, ..., -0.08280567,\n",
      "       -0.0747347 ,  0.40131724]), array([ 0.469281  , -1.37112837,  1.11575082, ..., -1.55497195,\n",
      "        1.00859616,  0.93287495]), array([-0.17589095,  2.62426785, -2.13803361, ...,  0.49789304,\n",
      "        0.1390925 ,  0.63839358]), array([-0.63219966,  1.59920001, -0.17815088, ..., -0.32239559,\n",
      "       -0.02003583,  0.45937891]), array([-0.61308103,  0.80158029,  2.5899895 , ...,  1.30334638,\n",
      "        0.64835868,  1.06754783]), array([-1.42890182,  1.10609845,  1.92374368, ..., -1.67656008,\n",
      "       -0.70666505,  0.65709339]), array([ 5.23520057,  6.20207409, -4.21443635, ...,  1.87313819,\n",
      "        1.17761959, -0.63025772]), array([-3.43298497, -4.64790295, -1.32644032, ..., -2.24288497,\n",
      "       -4.33429194,  0.07603024]), array([ 1.14574698,  2.46090577, -1.23889913, ..., -1.35463882,\n",
      "       -4.74519373,  0.2170382 ]), array([ 0.09502552, -2.32486074, -3.44300742, ...,  6.65192868,\n",
      "        0.64870893, -0.65676747]), array([14.80158283, -7.16140947,  1.20381616, ...,  5.69198749,\n",
      "        5.57290258, -4.67282835]), array([ 1.02995991, -6.39508719, -2.20051719, ..., -3.29103401,\n",
      "        1.32047295, -4.68274449]), array([ -2.04375146,  13.47885873, -14.92968046, ...,   8.73442575,\n",
      "         3.24432219,  -3.08407442]), array([  0.63448751,   8.347274  , -11.42715063, ...,   5.4253193 ,\n",
      "         3.7011698 ,  -5.27823974]), array([ -8.95561144,   3.89698295,   7.6523487 , ..., -12.76233986,\n",
      "         0.24830949,   1.4384379 ]), array([-10.82334412,  -4.2056769 ,   3.49795558, ...,   2.18275609,\n",
      "         2.1776598 ,  -0.40604667]), array([ -3.97400668, -10.05383569,  -6.31973162, ..., -11.51077989,\n",
      "       -32.95464343,  -5.98472222]), array([ 7.74139526, 12.82218743,  4.85177817, ..., -1.23100194,\n",
      "        4.53360488,  7.99380153]), array([ 5.88969807,  7.56049371, -7.24676425, ...,  4.18652516,\n",
      "       12.95716765, -1.54903618]), array([ 0.8702129 , 12.99047855,  9.70064499, ...,  5.34858291,\n",
      "        2.92308971,  6.96595404]), array([21.29027424, 16.90252642, 20.59166538, ..., -5.2655336 ,\n",
      "        0.0636898 ,  7.47632239]), array([ 4.98850428,  8.0827979 , -3.10784816, ...,  2.11940131,\n",
      "       -2.5083055 , -0.1733412 ]), array([ 8.24771846, -4.16772137, -3.01097786, ..., -9.05736428,\n",
      "        1.15527009, -8.95194971]), array([  6.86919317,  -2.94796754,  -0.90170309, ...,  -1.31775437,\n",
      "       -12.21333285, -11.60677733]), array([-8.46726922, 14.90165428,  6.89485664, ...,  4.8478901 ,\n",
      "       -7.07884952, -4.75371473]), array([ -7.76879143,  -2.97576327, -17.44923969, ..., -10.05052616,\n",
      "        -8.26527532,   6.25452006]), array([12.25672834, -3.87471389,  1.77144262, ...,  3.35881858,\n",
      "        2.40637642,  0.98354922]), array([ 12.75462682, -21.79251684,   1.84113505, ...,   3.43742714,\n",
      "         6.12758657,  -2.49910345]), array([ 2.02252438, -7.74384001, -5.77459068, ..., -9.68617465,\n",
      "       -7.10735841, -4.32482174]), array([  3.55004324,  -1.30404452,  -7.7219253 , ..., -14.67635702,\n",
      "         4.08237625,   2.65594078]), array([ -8.57648895,  -1.65822352, -20.06667222, ...,  -5.77122717,\n",
      "        -2.30247862,  -6.64532795])]\n"
     ]
    }
   ],
   "source": [
    "eigen_vector_ls = []\n",
    "\n",
    "for i in range(eigen_vectors.shape[1]):\n",
    "    eig1 = features.T@eigen_vectors[:,i]\n",
    "    eig1 = eig1/eigen_values[i]\n",
    "    eigen_vector_ls.append(np.ravel(eig1))\n",
    "print(eigen_vector_ls)"
   ]
  },
  {
   "cell_type": "code",
   "execution_count": 21,
   "metadata": {},
   "outputs": [
    {
     "name": "stdout",
     "output_type": "stream",
     "text": [
      "[50.49120238303361, 37.402964935170154, 3.462967695877698, 2.1627003710503425, 1.7278045632079952, 1.1540814863953293, 1.0589442224431502, 0.35772145097061414, 0.3339278152787351, 0.2350471346280215, 0.21522149846891114, 0.1584298099253564, 0.1463427029500651, 0.11739652848739943, 0.10214189010595734, 0.10581397352320875, 0.07805492721197568, 0.06938489341262426, 0.06879319884443562, 0.016872643527083436, 0.061540486863233004, 0.05859881891496917, 0.020860459374305335, 0.023489332368511112, 0.026406499898948527, 0.02726966800605477, 0.031412490837374026, 0.0334778653200596, 0.04710163785996588, 0.04481401970086012, 0.043572612059607316, 0.04094575445365247, 0.03664228176237551, 0.038053948067398376]\n"
     ]
    }
   ],
   "source": [
    "variance_explained = []\n",
    "for i in eigen_values:\n",
    "     variance_explained.append((i/sum(eigen_values))*100)\n",
    "        \n",
    "print(variance_explained)"
   ]
  },
  {
   "cell_type": "markdown",
   "metadata": {},
   "source": [
    "# Finding the principal components"
   ]
  },
  {
   "cell_type": "code",
   "execution_count": 22,
   "metadata": {},
   "outputs": [
    {
     "name": "stdout",
     "output_type": "stream",
     "text": [
      "Number of components is 5\n"
     ]
    }
   ],
   "source": [
    "sort_idx = np.argsort(eigen_values) ## indices for eigenvalues which are in ascending order\n",
    "sort_idx = sort_idx[::-1]\n",
    "\n",
    "eigen_values_sum = np.sum(eigen_values)\n",
    "temp_sum = 1\n",
    "principal_eigen_vector = []\n",
    "principal_eigen_values = []\n",
    "i=0\n",
    "while(0.9<temp_sum<0.97*eigen_values_sum):\n",
    "    principal_eigen_vector.append(eigen_vector_ls[sort_idx[i]])\n",
    "    principal_eigen_values.append(eigen_values[sort_idx[i]])\n",
    "    temp_sum += eigen_values[sort_idx[i]]\n",
    "    i += 1\n",
    "print(\"Number of components is {}\".format(i))"
   ]
  },
  {
   "cell_type": "code",
   "execution_count": 24,
   "metadata": {},
   "outputs": [
    {
     "data": {
      "text/plain": [
       "array([0.50491202, 0.37402965, 0.03462968, 0.021627  , 0.01727805])"
      ]
     },
     "execution_count": 24,
     "metadata": {},
     "output_type": "execute_result"
    }
   ],
   "source": [
    "# cumulative_variance_explained = np.cumsum(variance_explained)\n",
    "# print(cumulative_variance_explained)\n",
    "pca = PCA(n_components=i)\n",
    "pca.fit_transform(X)\n",
    "pca.explained_variance_ratio_"
   ]
  },
  {
   "cell_type": "markdown",
   "metadata": {},
   "source": [
    "# Scree Plot"
   ]
  },
  {
   "cell_type": "code",
   "execution_count": 25,
   "metadata": {},
   "outputs": [
    {
     "data": {
      "image/png": "[encoded data removed]",
      "text/plain": [
       "<Figure size 432x288 with 1 Axes>"
      ]
     },
     "metadata": {
      "needs_background": "light"
     },
     "output_type": "display_data"
    }
   ],
   "source": [
    "pca = PCA().fit(X)\n",
    "plt.plot(np.cumsum(pca.explained_variance_ratio_))\n",
    "plt.xlabel('number of components')\n",
    "plt.ylabel('cumulative explained variance')\n",
    "plt.show()"
   ]
  },
  {
   "cell_type": "code",
   "execution_count": 26,
   "metadata": {},
   "outputs": [
    {
     "data": {
      "image/png": "[encoded data removed]",
      "text/plain": [
       "<Figure size 432x288 with 1 Axes>"
      ]
     },
     "metadata": {
      "needs_background": "light"
     },
     "output_type": "display_data"
    }
   ],
   "source": [
    "fig, ax = plt.subplots()\n",
    "\n",
    "ax.plot(principal_eigen_values)\n",
    "ax.set_title(\"Eigen-values corresponding to the principal components\")\n",
    "\n",
    "plt.tight_layout()"
   ]
  },
  {
   "cell_type": "code",
   "execution_count": null,
   "metadata": {},
   "outputs": [],
   "source": []
  }
 ],
 "metadata": {
  "kernelspec": {
   "display_name": "Python 3",
   "language": "python",
   "name": "python3"
  },
  "language_info": {
   "codemirror_mode": {
    "name": "ipython",
    "version": 3
   },
   "file_extension": ".py",
   "mimetype": "text/x-python",
   "name": "python",
   "nbconvert_exporter": "python",
   "pygments_lexer": "ipython3",
   "version": "3.8.3"
  }
 },
 "nbformat": 4,
 "nbformat_minor": 4
}
